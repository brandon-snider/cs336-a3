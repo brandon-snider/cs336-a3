{
 "cells": [
  {
   "cell_type": "code",
   "execution_count": null,
   "metadata": {},
   "outputs": [],
   "source": [
    "budget = 2e18\n",
    "\n",
    "# High-level idea:\n",
    "# - Assume batch_size of 128 (be more rigorous about this)\n",
    "# - Find an optimal configuration (N_opt, LR_opt) at a small scale (a bunch of runs at 1e15)\n",
    "# - Use that to predict the optimal configuration at the next scale\n",
    "# - Refine the scaling law\n",
    "# - Repeat until we hit our final scale (3e17)\n",
    "# - Fit a scaling law between 3e16 and 3e17\n",
    "# - Extrapolate to 1e19\n",
    "\n",
    "# Want to find a and b s.t. n_opt(C) = a * C^b, and predict n_opt for 1e19\n",
    "\n",
    "# Idea:\n",
    "# 1. Find n_opt at smallest scale, starting from Hoffman estimate\n",
    "#     a. Initial guess: N_opt(C_1) = 1.018e-01 * C_1^0.5 (so a = 1.018e-01, b = 0.5)\n",
    "#     b. Train for 6 log-spaced N_1j points around this (it's cheap, and this is our first anchor)\n",
    "#          i. If it doesn't look like the minimum is in this range, expand the range and try again\n",
    "#     c. Choose a' = N_opt(C_1) / (C_1^b); keep b fixed until we can fit a new scaling law\n",
    "# 2. Find N_opt at next scale\n",
    "#     a. Use N_opt(C_2) = a' * C_2^b to get initial guess\n",
    "#     b. Train for 6 log-spaced N_2j points around this\n",
    "# 3. Then, iteratively:\n",
    "#     a. Predict n_opt for next slice\n",
    "#     b. Explore around that point (log-spaced N_ij values?)\n",
    "#     c. Fit scaling law going back 1 OOM\n",
    "\n",
    "slices = [10 * 1e15, 5 * 3e15, 5 * 6e15, 5 * 1e16, 5 * 3e16, 5 * 6e16, 4 * 1e17, 4 * 3e17]\n",
    "n_per_slice = 1\n",
    "total_compute = sum(n_per_slice * slices)\n",
    "\n",
    "print(total_compute)\n"
   ]
  }
 ],
 "metadata": {
  "kernelspec": {
   "display_name": ".venv",
   "language": "python",
   "name": "python3"
  },
  "language_info": {
   "codemirror_mode": {
    "name": "ipython",
    "version": 3
   },
   "file_extension": ".py",
   "mimetype": "text/x-python",
   "name": "python",
   "nbconvert_exporter": "python",
   "pygments_lexer": "ipython3",
   "version": "3.12.4"
  }
 },
 "nbformat": 4,
 "nbformat_minor": 2
}
